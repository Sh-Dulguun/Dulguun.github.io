{
  "nbformat": 4,
  "nbformat_minor": 0,
  "metadata": {
    "colab": {
      "provenance": [],
      "authorship_tag": "ABX9TyPHxIr1+8bpENV3L/6Y3hlM",
      "include_colab_link": true
    },
    "kernelspec": {
      "name": "python3",
      "display_name": "Python 3"
    },
    "language_info": {
      "name": "python"
    }
  },
  "cells": [
    {
      "cell_type": "markdown",
      "metadata": {
        "id": "view-in-github",
        "colab_type": "text"
      },
      "source": [
        "<a href=\"https://colab.research.google.com/github/Sh-Dulguun/Dulguun.github.io/blob/master/Wheat_and_the_chessboard_problem.ipynb\" target=\"_parent\"><img src=\"https://colab.research.google.com/assets/colab-badge.svg\" alt=\"Open In Colab\"/></a>"
      ]
    },
    {
      "cell_type": "markdown",
      "source": [
        "# Question 1\n",
        "####Represent a chessboard with 2x2 squares as an ndarray and calculate the number of grains in each square. Place 1 wheat in the top left square, then 2 on the right, 4 on the bottom left, 8 on the bottom right, and so on."
      ],
      "metadata": {
        "id": "4K_dMNDCl6oK"
      }
    },
    {
      "cell_type": "code",
      "execution_count": null,
      "metadata": {
        "id": "FgidiscrzxvB"
      },
      "outputs": [],
      "source": [
        "import numpy as np"
      ]
    },
    {
      "cell_type": "code",
      "source": [
        "chessboard = np.zeros((2, 2), dtype=np.int64)\n",
        "n_squares = 4\n",
        "small_board_list = [1]\n",
        "for i in range(n_squares - 1):\n",
        "    small_board_list.append(2 * small_board_list[-1])\n",
        "    row = i // 2\n",
        "    col = i % 2\n",
        "    chessboard[row][col] = small_board_list[i]\n",
        "print(\"2x2 chessboard ndarray：\\n\", chessboard)"
      ],
      "metadata": {
        "id": "H9NJHLR_z7Cz",
        "colab": {
          "base_uri": "https://localhost:8080/"
        },
        "outputId": "c9259265-19a5-47ab-e3ea-76f73d2552de"
      },
      "execution_count": null,
      "outputs": [
        {
          "output_type": "stream",
          "name": "stdout",
          "text": [
            "2x2 chessboard ndarray：\n",
            " [[1 2]\n",
            " [4 0]]\n"
          ]
        }
      ]
    },
    {
      "cell_type": "markdown",
      "source": [
        "#Question 2\n",
        "#### Create a function that returns an ndarray of wheat counts on an nxm chessboard. Then use this function to find the number of wheat on an 8x8 chessboard."
      ],
      "metadata": {
        "id": "_6P1J6eMqgd4"
      }
    },
    {
      "cell_type": "code",
      "source": [
        "def wheat_counts_on_chessboard(n, m):\n",
        "    chessboard = np.zeros((n, m), dtype=np.int64)\n",
        "    n_squares = n * m\n",
        "    grains_list = [1]\n",
        "    for i in range(n_squares - 1):\n",
        "        grains_list.append(2 * grains_list[-1])\n",
        "        row = i // m\n",
        "        col = i % m\n",
        "        chessboard[row][col] = grains_list[i]\n",
        "\n",
        "    return chessboard\n",
        "chessboard_8x8 = wheat_counts_on_chessboard(8, 8)\n",
        "total_wheat = np.sum(chessboard_8x8)\n",
        "print(\"Wheat on an 8x8 chessboard ：{}\".format(total_wheat))"
      ],
      "metadata": {
        "colab": {
          "base_uri": "https://localhost:8080/"
        },
        "id": "8cQgw-MOPBJh",
        "outputId": "f398e03c-2ccf-4da6-df6c-5b50909f31f7"
      },
      "execution_count": null,
      "outputs": [
        {
          "output_type": "stream",
          "name": "stdout",
          "text": [
            "Wheat on an 8x8 chessboard ：9223372036854775807\n"
          ]
        }
      ]
    },
    {
      "cell_type": "markdown",
      "source": [
        "# Question 3\n",
        "#### Find the total number of wheat on an 8x8 chess board. Also find the average of each column and visualize it in a bar chart."
      ],
      "metadata": {
        "id": "6MhcaVzkqq9P"
      }
    },
    {
      "cell_type": "code",
      "source": [
        "import matplotlib.pyplot as plt\n",
        "avg_wheat_per_column = np.mean(chessboard_8x8, axis=0)\n",
        "\n",
        "plt.xlabel(\"Column\")\n",
        "plt.ylabel(\"Number of Wheat\")\n",
        "plt.title(\"Number in each column\")\n",
        "plt.bar(np.arange(1, 9), avg_wheat_per_column)\n",
        "plt.show()"
      ],
      "metadata": {
        "colab": {
          "base_uri": "https://localhost:8080/",
          "height": 472
        },
        "id": "a1MxJ7A0Tx_y",
        "outputId": "287a5fce-0635-4d8c-f1e2-20f2972de9ba"
      },
      "execution_count": null,
      "outputs": [
        {
          "output_type": "display_data",
          "data": {
            "text/plain": [
              "<Figure size 640x480 with 1 Axes>"
            ],
            "image/png": "[encoded data removed]"
          },
          "metadata": {}
        }
      ]
    },
    {
      "cell_type": "markdown",
      "source": [
        "# Question 4\n",
        "#### Visualize the number of wheat on an 8x8 square chessboard as a heatmap.Heatmap provides sample code.\n",
        "####《Heatmap sample code》It is a heatmap of an array of 4 rows and 2 columns. Small values ​​are purple and large values ​​are yellow."
      ],
      "metadata": {
        "id": "4o1AwO-Jqwn3"
      }
    },
    {
      "cell_type": "code",
      "source": [
        "def wheat_counts_on_chessboard(n, m):\n",
        "    chessboard = np.zeros((n, m), dtype=np.int64)\n",
        "    n_squares = n * m\n",
        "    grains_list = [1]\n",
        "    for i in range(n_squares - 1):\n",
        "        grains_list.append(2 * grains_list[-1])\n",
        "        row = i // m\n",
        "        col = i % m\n",
        "        chessboard[row][col] = grains_list[i]\n",
        "\n",
        "    return chessboard\n",
        "chessboard_8x8 = wheat_counts_on_chessboard(8, 8)\n",
        "total_wheat = np.sum(chessboard_8x8)\n",
        "print(\"Wheat on an 8x8 chessboard ：{}\".format(total_wheat))\n",
        "\n",
        "plt.xlabel(\"column\")\n",
        "plt.ylabel(\"row\")\n",
        "plt.title(\"heatmap\")\n",
        "plt.pcolor(chessboard_8x8, cmap='YlOrBr')\n",
        "plt.colorbar()\n",
        "plt.show()"
      ],
      "metadata": {
        "colab": {
          "base_uri": "https://localhost:8080/",
          "height": 490
        },
        "id": "EfW5S5ftUkJl",
        "outputId": "f2011e5a-5d74-4bde-9b89-8e7beda19ff1"
      },
      "execution_count": null,
      "outputs": [
        {
          "output_type": "stream",
          "name": "stdout",
          "text": [
            "Wheat on an 8x8 chessboard ：9223372036854775807\n"
          ]
        },
        {
          "output_type": "display_data",
          "data": {
            "text/plain": [
              "<Figure size 640x480 with 2 Axes>"
            ],
            "image/png": "[encoded data removed]"
          },
          "metadata": {}
        }
      ]
    },
    {
      "cell_type": "markdown",
      "source": [
        "# Question 5\n",
        "#### Find the number of wheat in the second half of the chessboard multiplied by the number of wheat in the first half. The first half is rows 0 to 3 of the array, the second half is rows 4 to 7."
      ],
      "metadata": {
        "id": "07eFqO1nq04n"
      }
    },
    {
      "cell_type": "code",
      "source": [
        "def wheat_counts_on_chessboard(n, m):\n",
        "    chessboard = np.zeros((n, m), dtype=np.int64)\n",
        "    n_squares = n * m\n",
        "    grains_list = [1]\n",
        "    for i in range(n_squares - 1):\n",
        "        grains_list.append(2 * grains_list[-1])\n",
        "        row = i // m\n",
        "        col = i % m\n",
        "        chessboard[row][col] = grains_list[i]\n",
        "\n",
        "    return chessboard\n",
        "chessboard_8x8 = wheat_counts_on_chessboard(8, 8)\n",
        "\n",
        "# Find the number of wheat in the first half of the chessboard\n",
        "wheat_first_half = np.sum(chessboard_8x8[:4, :])\n",
        "\n",
        "# Find the number of wheat in the second half of the chessboard\n",
        "wheat_second_half = np.sum(chessboard_8x8[4:, :])\n",
        "\n",
        "print(\"The number of wheat in the first half of the chessboard is:\", wheat_first_half)\n",
        "print(\"The number of wheat in the second half of the chessboard is:\", wheat_second_half)"
      ],
      "metadata": {
        "colab": {
          "base_uri": "https://localhost:8080/"
        },
        "id": "Uxf7dqZIVhgj",
        "outputId": "78b4c2ea-be52-405b-ff20-a7c02726201b"
      },
      "execution_count": null,
      "outputs": [
        {
          "output_type": "stream",
          "name": "stdout",
          "text": [
            "The number of wheat in the first half of the chessboard is: 4294967295\n",
            "The number of wheat in the second half of the chessboard is: 9223372032559808512\n"
          ]
        }
      ]
    },
    {
      "cell_type": "markdown",
      "source": [
        "#Problem 6\n",
        "#### np.append()Create a new `` function that returns an ndarray that describes the number of wheat on an n x m square chessboard'' similar to Problem 2, one that uses and one that uses broadcasting.Use those functions to find again the number of wheat on the 8x8 square chessboard."
      ],
      "metadata": {
        "id": "eVOjeowF8_Vd"
      }
    },
    {
      "cell_type": "code",
      "source": [
        "def calc_wheat_on_board(n, m):\n",
        "    board = np.array([1])\n",
        "    for _ in range(n * m - 1):\n",
        "        board = np.append(board, 2 * board[-1])\n",
        "    return board.reshape(n, m)\n",
        "def calc_wheat_on_board_broadcasting(n, m):\n",
        "    indices = np.arange(n * m).reshape(n, m)\n",
        "    board = 2 ** indices\n",
        "    return board.astype(np.uint64)\n",
        "board = calc_wheat_on_board(8, 8)\n",
        "print(\"Total wheat on 8x8 chessboard using np.append():\", board.sum())\n",
        "\n",
        "board_broadcasting = calc_wheat_on_board_broadcasting(8, 8)\n",
        "print(\"Total wheat on 8x8 chessboard using broadcasting:\", board_broadcasting.sum())\n"
      ],
      "metadata": {
        "colab": {
          "base_uri": "https://localhost:8080/"
        },
        "id": "4Vr2R29Nsm9g",
        "outputId": "4a914df4-4c86-410d-8c8a-13489d3ac258"
      },
      "execution_count": null,
      "outputs": [
        {
          "output_type": "stream",
          "name": "stdout",
          "text": [
            "Total wheat on 8x8 chessboard using np.append(): -1\n",
            "Total wheat on 8x8 chessboard using broadcasting: 18446744073709551615\n"
          ]
        },
        {
          "output_type": "stream",
          "name": "stderr",
          "text": [
            "<ipython-input-64-51f32199f6ba>:4: RuntimeWarning: overflow encountered in long_scalars\n",
            "  board = np.append(board, 2 * board[-1])\n"
          ]
        }
      ]
    },
    {
      "cell_type": "markdown",
      "source": [
        "#Question 7\n",
        "####I've seen 3 different methods. Please measure each calculation time %%timeitusing Jupyter Notebook and compare and discuss.\n",
        "####%%timeitworks by executing the code in the cell multiple times and printing its average execution time."
      ],
      "metadata": {
        "id": "sauqmFJ-99T7"
      }
    },
    {
      "cell_type": "code",
      "source": [
        "def wheat_counts_for_loop(rows, cols):\n",
        "    chessboard_list = [1]\n",
        "    for i in range(1, rows*cols):\n",
        "        chessboard_list.append(2*chessboard_list[-1])\n",
        "    return np.array(chessboard_list).reshape(rows, cols)\n",
        "rows, cols = 8, 8\n",
        "%timeit wheat_counts_for_loop(rows, cols)\n",
        "def wheat_counts_np_append(rows, cols):\n",
        "    powers_of_two = np.array([1])\n",
        "    for i in range(1, rows*cols):\n",
        "        powers_of_two = np.append(powers_of_two, 2*powers_of_two[-1])\n",
        "    return powers_of_two.reshape(rows, cols)\n",
        "%timeit wheat_counts_np_append(rows, cols)"
      ],
      "metadata": {
        "colab": {
          "base_uri": "https://localhost:8080/"
        },
        "id": "tYwuVqn1-GTv",
        "outputId": "92c5d696-a097-4222-e506-2e042b688415"
      },
      "execution_count": null,
      "outputs": [
        {
          "output_type": "stream",
          "name": "stdout",
          "text": [
            "15.4 µs ± 659 ns per loop (mean ± std. dev. of 7 runs, 10000 loops each)\n"
          ]
        },
        {
          "output_type": "stream",
          "name": "stderr",
          "text": [
            "<ipython-input-62-470a9c3334c6>:11: RuntimeWarning: overflow encountered in long_scalars\n",
            "  powers_of_two = np.append(powers_of_two, 2*powers_of_two[-1])\n"
          ]
        },
        {
          "output_type": "stream",
          "name": "stdout",
          "text": [
            "371 µs ± 32.6 µs per loop (mean ± std. dev. of 7 runs, 1000 loops each)\n"
          ]
        }
      ]
    },
    {
      "cell_type": "code",
      "source": [],
      "metadata": {
        "id": "xw1AlbW5Ah_G"
      },
      "execution_count": null,
      "outputs": []
    }
  ]
}