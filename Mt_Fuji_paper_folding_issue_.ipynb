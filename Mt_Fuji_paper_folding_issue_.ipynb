{
  "nbformat": 4,
  "nbformat_minor": 0,
  "metadata": {
    "colab": {
      "provenance": [],
      "authorship_tag": "ABX9TyOSir14BcufeOeentwOWfE4",
      "include_colab_link": true
    },
    "kernelspec": {
      "name": "python3",
      "display_name": "Python 3"
    },
    "language_info": {
      "name": "python"
    }
  },
  "cells": [
    {
      "cell_type": "markdown",
      "metadata": {
        "id": "view-in-github",
        "colab_type": "text"
      },
      "source": [
        "<a href=\"https://colab.research.google.com/github/Sh-Dulguun/Dulguun.github.io/blob/master/Mt_Fuji_paper_folding_issue_.ipynb\" target=\"_parent\"><img src=\"https://colab.research.google.com/assets/colab-badge.svg\" alt=\"Open In Colab\"/></a>"
      ]
    },
    {
      "cell_type": "markdown",
      "source": [
        "# **[Problem 1] How many times to fold paper to exceed the height of Mt.Fuji?**\n",
        "Create a program that calculates the minimum number of times to fold the paper required for the thickness to exceed the \"height of Mt. Fuji (3776m)\""
      ],
      "metadata": {
        "id": "5xmdOEf44flq"
      }
    },
    {
      "cell_type": "code",
      "execution_count": null,
      "metadata": {
        "colab": {
          "base_uri": "https://localhost:8080/"
        },
        "id": "QuF1wcLn4aQT",
        "outputId": "5f26d4b2-7c65-44a8-c172-627107152f65"
      },
      "outputs": [
        {
          "output_type": "stream",
          "name": "stdout",
          "text": [
            "Minimum number to fold the paper is : 25.49228352379865\n"
          ]
        }
      ],
      "source": [
        "import math\n",
        "thickness = 0.00008\n",
        "height_of_Mt_Fuji = 3776\n",
        "paper_fold = math.log2(height_of_Mt_Fuji / thickness)\n",
        "print(\"Minimum number to fold the paper is : {}\".format(paper_fold))"
      ]
    },
    {
      "cell_type": "markdown",
      "source": [
        "# **[Problem 2] Function corresponding to arbitrary thickness**\n",
        "Implement a function that, given a height, outputs the minimum number of paper folds required to exceed it. Let's also set the thickness $t_{0}$ before folding as an argument.\n",
        "\n",
        "Use this function to calculate how many times the paper needs to be folded to reach the \"nearest non-Sun star\".\n",
        "The \"nearest non-Sun star\" is Proxima Centauri, which is about $4.0175 \\times 10^{16}$m from Earth."
      ],
      "metadata": {
        "id": "Er284eBV_ki-"
      }
    },
    {
      "cell_type": "code",
      "source": [
        "import math\n",
        "def calculate_paper_fold(height, thickness):\n",
        "  paper_fold = math.log2(height / thickness)\n",
        "  return paper_fold\n",
        "\n",
        "thick = 0.00008\n",
        "distance_of_Proxima_Centauri = 4.0175e16\n",
        "\n",
        "the_result = calculate_paper_fold(distance_of_Proxima_Centauri, thick)\n",
        "print(\"{} paper needs to be folded to reach.\".format(the_result))"
      ],
      "metadata": {
        "colab": {
          "base_uri": "https://localhost:8080/"
        },
        "id": "0vbrVnHh_k3v",
        "outputId": "c75f1afe-3ba6-4aaf-de41-4fd0b2f239e2"
      },
      "execution_count": null,
      "outputs": [
        {
          "output_type": "stream",
          "name": "stdout",
          "text": [
            "68.76678801653497 paper needs to be folded to reach.\n"
          ]
        }
      ]
    },
    {
      "cell_type": "markdown",
      "source": [
        "# **[Problem 3] Required paper length**\n",
        "In fact, the paper around us cannot be folded 10 times, let alone 43 times. However, the larger the paper, the more it can be folded. There is a formula for finding the number of times a long piece of paper, such as toilet paper, can be folded when considering folding it in one direction.\n",
        "\n",
        "The length L of paper required to fold a paper of thickness $t_{0}$ n times is obtained by the following formula.\n",
        "\n",
        "$l = ((Pi*t_{0})/6)*(2^n+4)(2^n−1)$\n",
        "\n",
        "Use this formula to implement a function that finds the length of paper required to actually fold the paper to reach a given thickness.\n",
        "\n",
        "And use this to find the length of paper necessary to reach the \"moon\", \"Mt. Fuji\" and \"the nearest star other than the sun\".\n",
        "\n"
      ],
      "metadata": {
        "id": "m2zkMQQ2NDox"
      }
    },
    {
      "cell_type": "code",
      "source": [
        "thickness_of_paper = 0.00008\n",
        "def peper_folding_length(m):\n",
        "  def Fuji_peper_folding(m): \n",
        "    num = 0\n",
        "    thickness_of_paper = 0.00008\n",
        "    while(1):\n",
        "      if(thickness_of_paper <= m):\n",
        "        thickness_of_paper = thickness_of_paper + thickness_of_paper\n",
        "        num = num + 1\n",
        "      else :\n",
        "        break\n",
        "    return num\n",
        "  n=Fuji_peper_folding(m)\n",
        "  result = (3.14159*thickness_of_paper/6*((2**n)+4)*((2**n)-1))\n",
        "  return result\n",
        "distance_of_Mount_Fuji = 3776\n",
        "distance_of_Moon = 384400 \n",
        "distance_of_Proxima_Centauri = 4.0175*10**16\n",
        "to_reach_Mount_Fuji = peper_folding_length(distance_of_Mount_Fuji)\n",
        "to_reach_moon = peper_folding_length(distance_of_Moon)\n",
        "to_reach_Proxima_Centauri = peper_folding_length(distance_of_Proxima_Centauri)\n",
        "print(\"{} km of paper folded will reach the Mt. Fuji.\".format(to_reach_Mount_Fuji/1000))\n",
        "print(\"{} km of paper folded will reach the moon.\".format(to_reach_moon))\n",
        "print(\"{}times*10^16 of paper folded will reach the Proxima Centauri.\".format(to_reach_Proxima_Centauri/10**16))"
      ],
      "metadata": {
        "colab": {
          "base_uri": "https://localhost:8080/"
        },
        "id": "1gAIoTpODluo",
        "outputId": "3eb58846-e64c-4ebb-e242-b4bd047219af"
      },
      "execution_count": null,
      "outputs": [
        {
          "output_type": "stream",
          "name": "stdout",
          "text": [
            "188646189.1444863 km of paper folded will reach the Mt. Fuji.\n",
            "3090779025854118.5 km of paper folded will reach the moon.\n",
            "1.459579127255246e+21times*10^16 of paper folded will reach the Proxima Centauri.\n"
          ]
        }
      ]
    },
    {
      "cell_type": "code",
      "source": [],
      "metadata": {
        "id": "0VsJczSDDoUh"
      },
      "execution_count": null,
      "outputs": []
    }
  ]
}