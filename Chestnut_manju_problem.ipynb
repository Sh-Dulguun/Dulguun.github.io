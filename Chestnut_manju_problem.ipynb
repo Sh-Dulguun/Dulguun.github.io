{
  "nbformat": 4,
  "nbformat_minor": 0,
  "metadata": {
    "colab": {
      "provenance": [],
      "authorship_tag": "ABX9TyNPMNRtlXnnMtM6fK/sXj+/",
      "include_colab_link": true
    },
    "kernelspec": {
      "name": "python3",
      "display_name": "Python 3"
    },
    "language_info": {
      "name": "python"
    }
  },
  "cells": [
    {
      "cell_type": "markdown",
      "metadata": {
        "id": "view-in-github",
        "colab_type": "text"
      },
      "source": [
        "<a href=\"https://colab.research.google.com/github/Sh-Dulguun/Dulguun.github.io/blob/master/Chestnut_manju_problem.ipynb\" target=\"_parent\"><img src=\"https://colab.research.google.com/assets/colab-badge.svg\" alt=\"Open In Colab\"/></a>"
      ]
    },
    {
      "cell_type": "markdown",
      "source": [
        "# **[Problem] The chestnut bun problem**\n",
        "There is a famous episode about 2 to the nth power [1] in which a tool called \"Byvine\" appears in Manga Doraemon.\n",
        "\n",
        "[1] Fujiko F. Fujio (1979) \"Doraemon (17)\" Shogakukan.\n",
        "\n",
        "\"Byevine\" is a medicine, and if you sprinkle it on it, the object will double every 5 minutes. I increase the number of chestnut buns in the process, but since I could not eat it, I used a rocket and threw it into space.\n",
        "\n",
        "A frequent topic of discussion here is how chestnut buns increase in volume in space. There is a lot of debate about this, but let's simply calculate how the volume of a chestnut bun increases.\n",
        "\n",
        "If you sprinkle a single chestnut bun with vine, how long will it take to cover the solar system with chestnut buns? Create a program to calculate this.\n",
        "\n",
        "Make assumptions about the volume of the chestnut buns and the solar system based on your research and calculations. You may simplify the problem by not considering the gap between the chestnut buns and gravity.\n",
        "\n",
        "Create a generic program that can be applied to other situations, such as the time it takes for the Tokyo Dome to fill up when you sprinkle a ball with Byvine. Also, please create a notebook that is easy to understand, e.g., display a graph."
      ],
      "metadata": {
        "id": "krvyG-ZHjzod"
      }
    },
    {
      "cell_type": "code",
      "execution_count": 20,
      "metadata": {
        "colab": {
          "base_uri": "https://localhost:8080/",
          "height": 308
        },
        "id": "4P3WY3zedwV_",
        "outputId": "159287a3-8b9f-4a16-d092-e1ef0493511d"
      },
      "outputs": [
        {
          "output_type": "stream",
          "name": "stdout",
          "text": [
            "184.25774582186568 minut to fill Tokyo dome\n"
          ]
        },
        {
          "output_type": "display_data",
          "data": {
            "text/plain": [
              "<Figure size 432x288 with 1 Axes>"
            ],
            "image/png": "[encoded data removed]"
          },
          "metadata": {}
        }
      ],
      "source": [
        "import math\n",
        "import matplotlib.pyplot as plt\n",
        "def calculation_of_chestnut_buns(volume_of_chestnut_bun, target_volume):\n",
        "  formula = 5*math.log2(target_volume / volume_of_chestnut_bun)\n",
        "  return formula\n",
        "\n",
        "volume_of_tokyo_dome = 1.24e12 # converting m^3 to cm^3\n",
        "time_to_fill = calculation_of_chestnut_buns(10,volume_of_tokyo_dome)\n",
        "print(\"{} minut to fill Tokyo dome\".format(time_to_fill))\n",
        "\n",
        "Buns = []\n",
        "Time = range(0, 1440, 5) #24 hours = 1440 min and 5 step size\n",
        "for t in Time:\n",
        "    Buns.append(2 ** (t / 5))\n",
        "\n",
        "plt.plot(Time, Buns)\n",
        "plt.xlabel(\"Time(min)\")\n",
        "plt.ylabel(\"Number of Chestnut buns\")\n",
        "plt.show()"
      ]
    }
  ]
}