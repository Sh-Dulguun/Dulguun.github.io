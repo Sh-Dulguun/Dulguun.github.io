{
  "nbformat": 4,
  "nbformat_minor": 0,
  "metadata": {
    "colab": {
      "provenance": [],
      "authorship_tag": "ABX9TyOS+iPxymK2OSZ0n7KsJSfx",
      "include_colab_link": true
    },
    "kernelspec": {
      "name": "python3",
      "display_name": "Python 3"
    },
    "language_info": {
      "name": "python"
    }
  },
  "cells": [
    {
      "cell_type": "markdown",
      "metadata": {
        "id": "view-in-github",
        "colab_type": "text"
      },
      "source": [
        "<a href=\"https://colab.research.google.com/github/Sh-Dulguun/Dulguun.github.io/blob/master/Sorori_Shinzaemon_problem.ipynb\" target=\"_parent\"><img src=\"https://colab.research.google.com/assets/colab-badge.svg\" alt=\"Open In Colab\"/></a>"
      ]
    },
    {
      "cell_type": "markdown",
      "source": [
        "# **[Question 1] Number of rice grains on the 100th day**\n",
        "\n",
        "Create a code to calculate how many grains of rice you receive in total on the 100th day, and output the answer. Also, use a line graph to represent the change in the number of rice grains you receive on that day and the total number of rice grains you receive by that day from day 1 to day 100. (The vertical axis is the number of rice and the horizontal axis is the number of days)"
      ],
      "metadata": {
        "id": "li8ZryzWbuJJ"
      }
    },
    {
      "cell_type": "code",
      "execution_count": 20,
      "metadata": {
        "colab": {
          "base_uri": "https://localhost:8080/",
          "height": 350
        },
        "id": "gFMm7qXTbgbR",
        "outputId": "ef0af0bf-9f6e-4afe-fbec-60a4f1046f81"
      },
      "outputs": [
        {
          "output_type": "stream",
          "name": "stdout",
          "text": [
            "d [1, 3, 7, 15, 31, 63, 127, 255, 511, 1023, 2047, 4095, 8191, 16383, 32767, 65535, 131071, 262143, 524287, 1048575, 2097151, 4194303, 8388607, 16777215, 33554431, 67108863, 134217727, 268435455, 536870911, 1073741823, 2147483647, 4294967295, 8589934591, 17179869183, 34359738367, 68719476735, 137438953471, 274877906943, 549755813887, 1099511627775, 2199023255551, 4398046511103, 8796093022207, 17592186044415, 35184372088831, 70368744177663, 140737488355327, 281474976710655, 562949953421311, 1125899906842623, 2251799813685247, 4503599627370495, 9007199254740991, 18014398509481983, 36028797018963967, 72057594037927935, 144115188075855871, 288230376151711743, 576460752303423487, 1152921504606846975, 2305843009213693951, 4611686018427387903, 9223372036854775807, 18446744073709551615, 36893488147419103231, 73786976294838206463, 147573952589676412927, 295147905179352825855, 590295810358705651711, 1180591620717411303423, 2361183241434822606847, 4722366482869645213695, 9444732965739290427391, 18889465931478580854783, 37778931862957161709567, 75557863725914323419135, 151115727451828646838271, 302231454903657293676543, 604462909807314587353087, 1208925819614629174706175, 2417851639229258349412351, 4835703278458516698824703, 9671406556917033397649407, 19342813113834066795298815, 38685626227668133590597631, 77371252455336267181195263, 154742504910672534362390527, 309485009821345068724781055, 618970019642690137449562111, 1237940039285380274899124223, 2475880078570760549798248447, 4951760157141521099596496895, 9903520314283042199192993791, 19807040628566084398385987583, 39614081257132168796771975167, 79228162514264337593543950335, 158456325028528675187087900671, 316912650057057350374175801343, 633825300114114700748351602687, 1267650600228229401496703205375]\n",
            "Total number of rice on the 100th day: 633825300114114700748351602688\n"
          ]
        },
        {
          "output_type": "display_data",
          "data": {
            "text/plain": [
              "<Figure size 432x288 with 1 Axes>"
            ],
            "image/png": "[encoded data removed]"
          },
          "metadata": {
            "needs_background": "light"
          }
        }
      ],
      "source": [
        "import matplotlib.pyplot as plt\n",
        "\n",
        "day = []\n",
        "rice_day = []\n",
        "total_rice = []\n",
        "rice = 1\n",
        "\n",
        "for i in range(1, 101):\n",
        "    day.append(i)\n",
        "    rice_day.append(rice)\n",
        "    total_rice.append(sum(rice_day))\n",
        "    rice = rice*2\n",
        "print(\"d\", total_rice)\n",
        "print(\"Total number of rice on the 100th day:\", rice_day[-1])\n",
        "\n",
        "plt.plot(day, rice_day, label='Rice on day')\n",
        "plt.plot(day, total_rice, label='Total rice by day')\n",
        "plt.xlabel('Days')\n",
        "plt.ylabel('Number of rice')\n",
        "plt.title('Rice reward')\n",
        "plt.legend()\n",
        "plt.show()"
      ]
    },
    {
      "cell_type": "markdown",
      "source": [
        "# **[Question 2] Number of rice grains outside of the 100th day**\n",
        "The number of days in this anecdote is ambiguous, such as 30 days or 81 days. Let's create a function that takes days as an argument so that it can handle any story. After creating the function, please answer how many rice grains you will receive in the number of days you take the course. Please output the line graph as well as problem 1.\n",
        "\n",
        "The following template contains not only the framework as a function, but also comments on arguments and return values. Please refer to it and rewrite the comments in a way that is easy for you to understand."
      ],
      "metadata": {
        "id": "fJPMN_kDB6fh"
      }
    },
    {
      "cell_type": "code",
      "source": [
        "import matplotlib.pyplot as plt\n",
        "\n",
        "def rice_reward(days):\n",
        "    rice_on_day = [1]\n",
        "    total_rice = [1]\n",
        "    day = [0]\n",
        "\n",
        "    for i in range(1, days):\n",
        "        rice_on_day.append(2*rice_on_day[-1])\n",
        "        total_rice.append(sum(rice_on_day))\n",
        "        day.append(i)\n",
        "\n",
        "    print(f\"The total number of rice grains received on the {days}th day is: {total_rice[-1]:}\")\n",
        "\n",
        "    plt.plot(day, rice_on_day, label='Rice on day')\n",
        "    plt.plot(day, total_rice, label='Total rice')\n",
        "    plt.xlabel('Day')\n",
        "    plt.ylabel('Rice')\n",
        "    plt.title('Rice Reward')\n",
        "    plt.legend()\n",
        "    plt.show()\n",
        "\n",
        "rice_reward(99) # Example call with 100 days"
      ],
      "metadata": {
        "colab": {
          "base_uri": "https://localhost:8080/",
          "height": 312
        },
        "outputId": "16c4de0f-42a0-44f1-fa87-ac4ee6889248",
        "id": "K9KqXMDF3OCg"
      },
      "execution_count": 37,
      "outputs": [
        {
          "output_type": "stream",
          "name": "stdout",
          "text": [
            "The total number of rice grains received on the 99th day is: 633825300114114700748351602687\n"
          ]
        },
        {
          "output_type": "display_data",
          "data": {
            "text/plain": [
              "<Figure size 432x288 with 1 Axes>"
            ],
            "image/png": "[encoded data removed]"
          },
          "metadata": {
            "needs_background": "light"
          }
        }
      ]
    },
    {
      "cell_type": "markdown",
      "source": [
        "# **[Question 3] How many people can live for how many days with the rice we get?**\n",
        "Create a function to calculate how many people can live for how many days with this rice. Output how many days the number of people in this class can live with the grains of rice they receive for the duration of the course.\n",
        "\n",
        "The minimum input for the function is the number of rice grains (int) and the number of people(int), and the output is the number of days to live (int). Please make sure that the function name and comments are easy to understand.\n",
        "\n",
        "The number of grains of rice needed per day is not provided here. Please do your own research and put it into a formula. Please leave a comment on how you did your research and what you used as your basis."
      ],
      "metadata": {
        "id": "57tvwNE7EbMZ"
      }
    },
    {
      "cell_type": "code",
      "source": [
        "import matplotlib.pyplot as plt\n",
        "def calculate_days_of_rice(rice_grains: int, num_people: int) -> int:\n",
        "    # Calculate the total amount of rice in kilograms\n",
        "    total_rice_kg = rice_grains / 1000\n",
        "    \n",
        "    # Calculate the daily requirement of rice in kilograms\n",
        "    daily_rice_kg = num_people * 0.4 # According to the United Nations Food and Agriculture Organization (FAO), an adult needs about 400 grams of rice per day\n",
        "    \n",
        "    # Calculate the number of days the rice will last\n",
        "    days_of_rice = total_rice_kg / daily_rice_kg\n",
        "    \n",
        "    return int(days_of_rice)\n",
        "\n",
        "num_people = 34\n",
        "rice_grains = 633825300114114700748351602687\n",
        "\n",
        "days_of_rice = calculate_days_of_rice(rice_grains, num_people)\n",
        "\n",
        "print(f\"The {num_people} people can live for {days_of_rice} days with {rice_grains} grains of rice.\")"
      ],
      "metadata": {
        "colab": {
          "base_uri": "https://localhost:8080/"
        },
        "id": "BRFJSOdQij7r",
        "outputId": "be51d7e6-3589-44af-ec7b-af8fec7b85d6"
      },
      "execution_count": 36,
      "outputs": [
        {
          "output_type": "stream",
          "name": "stdout",
          "text": [
            "The 34 people can live for 46604801478979018031104000 days with 633825300114114700748351602687 grains of rice.\n"
          ]
        }
      ]
    }
  ]
}