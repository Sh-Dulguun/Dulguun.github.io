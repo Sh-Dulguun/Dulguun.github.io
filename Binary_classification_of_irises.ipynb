{
  "nbformat": 4,
  "nbformat_minor": 0,
  "metadata": {
    "colab": {
      "provenance": [],
      "include_colab_link": true
    },
    "kernelspec": {
      "name": "python3",
      "display_name": "Python 3"
    },
    "language_info": {
      "name": "python"
    }
  },
  "cells": [
    {
      "cell_type": "markdown",
      "metadata": {
        "id": "view-in-github",
        "colab_type": "text"
      },
      "source": [
        "<a href=\"https://colab.research.google.com/github/Sh-Dulguun/Dulguun.github.io/blob/master/Binary_classification_of_irises.ipynb\" target=\"_parent\"><img src=\"https://colab.research.google.com/assets/colab-badge.svg\" alt=\"Open In Colab\"/></a>"
      ]
    },
    {
      "cell_type": "code",
      "execution_count": null,
      "metadata": {
        "id": "0BKvVlmxx8zy"
      },
      "outputs": [],
      "source": [
        "import pandas as pd\n",
        "import numpy as np\n",
        "import matplotlib.pyplot as plt\n",
        "import seaborn as sns\n",
        "from sklearn.model_selection import train_test_split\n",
        "from sklearn.datasets import load_iris\n",
        "from sklearn.preprocessing import StandardScaler\n",
        "from sklearn.neighbors import KNeighborsClassifier\n",
        "from sklearn.metrics import confusion_matrix\n",
        "from sklearn.metrics import accuracy_score\n",
        "from sklearn.metrics import precision_score\n",
        "from sklearn.metrics import recall_score\n",
        "from sklearn.metrics import f1_score , ConfusionMatrixDisplay\n",
        "\n",
        "from sklearn.linear_model import LogisticRegression\n",
        "from sklearn.ensemble import RandomForestClassifier\n",
        "from sklearn.svm import SVC\n",
        "from sklearn.tree import DecisionTreeClassifier\n",
        "\n",
        "from matplotlib.colors import ListedColormap\n",
        "import matplotlib.patches as mpatches\n",
        "\n",
        "def decision_region(X, y, model, step=0.01, title='decision region', xlabel='xlabel', ylabel='ylabel', target_names=['versicolor', 'virginica']):\n",
        "    \"\"\"\n",
        "    2値分類を2次元の特徴量で学習したモデルの決定領域を描く。\n",
        "    背景の色が学習したモデルによる推定値から描画される。\n",
        "    散布図の点は訓練データまたは検証データである。\n",
        "    Parameters\n",
        "    ----------------\n",
        "    X : ndarray, shape(n_samples, 2)\n",
        "        特徴量\n",
        "    y : ndarray, shape(n_samples,)\n",
        "        ラベル\n",
        "    model : object\n",
        "        学習したモデルのインスンタスを入れる\n",
        "    step : float, (default : 0.1)\n",
        "        推定値を計算する間隔を設定する\n",
        "    title : str\n",
        "        グラフのタイトルの文章を与える\n",
        "    xlabel, ylabel : str\n",
        "        軸ラベルの文章を与える\n",
        "    target_names= : list of str\n",
        "        凡例の一覧を与える\n",
        "    \"\"\"\n",
        "    # setting\n",
        "    scatter_color = ['red', 'blue']\n",
        "    contourf_color = ['pink', 'skyblue']\n",
        "    n_class = 2\n",
        "\n",
        "    # pred\n",
        "    mesh_f0, mesh_f1  = np.meshgrid(np.arange(np.min(X[:,0])-0.5, np.max(X[:,0])+0.5, step), np.arange(np.min(X[:,1])-0.5, np.max(X[:,1])+0.5, step))\n",
        "    mesh = np.c_[np.ravel(mesh_f0),np.ravel(mesh_f1)]\n",
        "    y_pred = model.predict(mesh).reshape(mesh_f0.shape)\n",
        "    # plot\n",
        "    plt.title(title)\n",
        "    plt.xlabel(xlabel)\n",
        "    plt.ylabel(ylabel)\n",
        "    plt.contourf(mesh_f0, mesh_f1, y_pred, n_class-1, cmap=ListedColormap(contourf_color))\n",
        "    plt.contour(mesh_f0, mesh_f1, y_pred, n_class-1, colors='y', linewidths=3, alpha=0.5)\n",
        "    for i, target in enumerate(np.unique(y)):\n",
        "        plt.scatter(X[y==target][:, 0], X[y==target][:, 1], s=80, color=scatter_color[i], label=target_names[i], marker='o')\n",
        "    patches = [mpatches.Patch(color=scatter_color[i], label=target_names[i]) for i in range(n_class)]\n",
        "    plt.legend(handles=patches)\n",
        "    plt.legend()\n",
        "    plt.show()"
      ]
    },
    {
      "cell_type": "markdown",
      "source": [
        "# **[Assignment 1] Select features and categories for practice**\n",
        "There are a total of 18 ways to choose, but we will practice with the following combinations. After getting the iris dataset in the same way as Week3, extract these from the data frame.\n",
        "*   virgicolorとvirginica\n",
        "*   sepal_lengthとpetal_length\n",
        "\n",
        "《What is the actual problem? 》\n",
        "\n",
        "Visualization of results is also effective in solving actual problems. However, it is not desirable to limit the number of features used for learning and estimation to just two. Therefore, learning and estimation are multidimensional, and feature extraction methods such as principal component analysis are applied only when visualizing. It is also possible to visualize using the scatterplot matrix used in Week3.\n",
        "\n"
      ],
      "metadata": {
        "id": "3VEh8X393Pjg"
      }
    },
    {
      "cell_type": "code",
      "source": [
        "data = load_iris()\n",
        "X = pd.DataFrame(data = data.data, columns = data.feature_names)\n",
        "y = pd.DataFrame(data = data.target, columns = ['species'])\n",
        "features = ['sepal length (cm)', 'petal length (cm)', 'species']\n",
        "data = pd.concat([X,y], axis=1)\n",
        "\n",
        "data = data.loc[:, features]\n",
        "data = data.iloc[50:,:]"
      ],
      "metadata": {
        "id": "DtDpoVw03meJ"
      },
      "execution_count": null,
      "outputs": []
    },
    {
      "cell_type": "markdown",
      "source": [
        "# **[Question 2] Data analysis**\n",
        "First, we will analyze the data, which we did in Task 1 of Week 3. By looking at the scatterplot matrix that was output at that time, you can also check the scatterplots for each of the 18 patterns mentioned earlier. You'll find that using sepal_length and petal_length to classify virgicolor and virginica is a bit of a tricky situation.\n",
        "\n",
        "Here, as a review, please display the scatterplot, boxplot, and violinplot of the extracted data.\n",
        "\n",
        "《What is the actual problem? 》\n",
        "\n",
        "Based on the results of this data analysis, we perform feature quantity engineering as preprocessing.\n",
        "\n",
        "I extracted sepal_length and petal_length this time, but after analyzing it, I can say that I preprocessed it to make the problem a little more difficult."
      ],
      "metadata": {
        "id": "PIBm-YOMkXGr"
      }
    },
    {
      "cell_type": "code",
      "source": [
        "print(data.head(5))\n",
        "print(data.info())\n",
        "print(data.describe())\n",
        "\n",
        "sns.scatterplot(data['sepal length (cm)'],data['petal length (cm)'],hue=data['species'])\n",
        "plt.show\n",
        "\n",
        "fig, ax = plt.subplots()\n",
        "labels = ['sepal length (cm)','petal length (cm)','virgicolor']\n",
        "ax.boxplot((data.iloc[:,0],data.iloc[:,1],data.iloc[:,2]),labels=labels)\n",
        "plt.show()\n",
        "\n",
        "fig,ax = plt.subplots()\n",
        "ax.violinplot((data.iloc[:,0],data.iloc[:,1],data.loc[:,'species']))\n",
        "plt.show()"
      ],
      "metadata": {
        "colab": {
          "base_uri": "https://localhost:8080/",
          "height": 1000
        },
        "id": "hkzxdVN-kWcF",
        "outputId": "12881eed-3aa3-485a-bb8f-bc50a793b4ce"
      },
      "execution_count": null,
      "outputs": [
        {
          "output_type": "stream",
          "name": "stdout",
          "text": [
            "    sepal length (cm)  petal length (cm)  species\n",
            "50                7.0                4.7        1\n",
            "51                6.4                4.5        1\n",
            "52                6.9                4.9        1\n",
            "53                5.5                4.0        1\n",
            "54                6.5                4.6        1\n",
            "<class 'pandas.core.frame.DataFrame'>\n",
            "RangeIndex: 100 entries, 50 to 149\n",
            "Data columns (total 3 columns):\n",
            " #   Column             Non-Null Count  Dtype  \n",
            "---  ------             --------------  -----  \n",
            " 0   sepal length (cm)  100 non-null    float64\n",
            " 1   petal length (cm)  100 non-null    float64\n",
            " 2   species            100 non-null    int64  \n",
            "dtypes: float64(2), int64(1)\n",
            "memory usage: 2.5 KB\n",
            "None\n",
            "       sepal length (cm)  petal length (cm)     species\n",
            "count         100.000000         100.000000  100.000000\n",
            "mean            6.262000           4.906000    1.500000\n",
            "std             0.662834           0.825578    0.502519\n",
            "min             4.900000           3.000000    1.000000\n",
            "25%             5.800000           4.375000    1.000000\n",
            "50%             6.300000           4.900000    1.500000\n",
            "75%             6.700000           5.525000    2.000000\n",
            "max             7.900000           6.900000    2.000000\n"
          ]
        },
        {
          "output_type": "stream",
          "name": "stderr",
          "text": [
            "/usr/local/lib/python3.8/dist-packages/seaborn/_decorators.py:36: FutureWarning: Pass the following variables as keyword args: x, y. From version 0.12, the only valid positional argument will be `data`, and passing other arguments without an explicit keyword will result in an error or misinterpretation.\n",
            "  warnings.warn(\n"
          ]
        },
        {
          "output_type": "display_data",
          "data": {
            "text/plain": [
              "<Figure size 432x288 with 1 Axes>"
            ],
            "image/png": "[encoded data removed]"
          },
          "metadata": {
            "needs_background": "light"
          }
        },
        {
          "output_type": "display_data",
          "data": {
            "text/plain": [
              "<Figure size 432x288 with 1 Axes>"
            ],
            "image/png": "[encoded data removed]"
          },
          "metadata": {
            "needs_background": "light"
          }
        },
        {
          "output_type": "display_data",
          "data": {
            "text/plain": [
              "<Figure size 432x288 with 1 Axes>"
            ],
            "image/png": "[encoded data removed]"
          },
          "metadata": {
            "needs_background": "light"
          }
        }
      ]
    },
    {
      "cell_type": "markdown",
      "source": [
        "# **[Problem 3] Division of preprocessing/training data and validation data**\n",
        "As part of the preprocessing, we split the training and validation data. This time split the data as 75% training data and 25% validation data.\n",
        "\n",
        "scikit-learn train_test_splitis available. Please refer to the examples in the official document.\n",
        "\n",
        "\"important point\"\n",
        "\n",
        "Until the analysis of the data, we have been using Pandas DataFrame. However, scikit-learn is built with NumPy ndarrays in mind. So let's do the conversion to ndarray at this stage. Store the feature value (explanatory variable) in X and the correct answer (objective variable) in ndarray named y.\n",
        "\n",
        "<Reason for division>\n",
        "\n",
        "The goal of a classification problem is to correctly classify unknown data. In order to check whether the purpose has been achieved, a part of the data for which the answer is actually known is left without being used for learning. Estimates are made with data not used for this learning, and the index values ​​obtained from them are verified. The data used for learning is the training data, and the data used for verification is the validation data. Generally, the ratio is about 7:3 to 8:2.\n"
      ],
      "metadata": {
        "id": "viNT-ntsn9hC"
      }
    },
    {
      "cell_type": "code",
      "source": [
        "X = data.loc[:, ['sepal length (cm)', 'petal length (cm)']].to_numpy()\n",
        "y = data.loc[:, 'species'].to_numpy()\n",
        "\n",
        "X_train, X_test, y_train, y_test = train_test_split(X,y, train_size=0.75, random_state=123)\n",
        "\n",
        "print('train feature shape: {}'.format(X_train.shape))\n",
        "print('test feature shape: {}'.format(X_test.shape))\n",
        "print('train label shape: {}'.format(y_train.shape))\n",
        "print('train label shape: {}'.format(y_test.shape))"
      ],
      "metadata": {
        "colab": {
          "base_uri": "https://localhost:8080/"
        },
        "id": "zXIrhhZnoEWl",
        "outputId": "b1dcb186-b0f1-436c-8626-af0a8f3871d9"
      },
      "execution_count": null,
      "outputs": [
        {
          "output_type": "stream",
          "name": "stdout",
          "text": [
            "train feature shape: (75, 2)\n",
            "test feature shape: (25, 2)\n",
            "train label shape: (75,)\n",
            "train label shape: (25,)\n"
          ]
        }
      ]
    },
    {
      "cell_type": "markdown",
      "source": [
        "# **[Problem 4] Preprocessing and standardization**\n",
        "\n",
        "Processing is performed to increase the classification accuracy. The appropriate method differs for each technique, but here we will use standardization as an example.\n",
        "\n",
        "A standardization library is also available in scikit-learn. Use this to standardize.\n",
        "\n",
        "\"important point\"\n",
        "\n",
        "Standardization is fitdone on the training data and on both the training and validation data transform. Validation data represent unknown data that did not exist in the training phase, so they should not be used to calculate mean or standard deviation for standardization. Also, since this is a classification problem, there is no need to standardize the labels.\n",
        "\n",
        "《What is the pretreatment in the actual problem? 》\n",
        "\n",
        "It is rare to be provided in a clean and easy-to-use situation like the iris dataset. While performing analysis, various processing becomes necessary. For example, after confirming missing values ​​in Task 2 of Week 3, imputation of missing values ​​may be performed. Check for outliers, clean multiple datasets, and more.\n"
      ],
      "metadata": {
        "id": "O6eVlWZttrBS"
      }
    },
    {
      "cell_type": "code",
      "source": [
        "scaler = StandardScaler()\n",
        "X_train = scaler.fit_transform(X_train)\n",
        "X_test = scaler.fit_transform(X_test)"
      ],
      "metadata": {
        "id": "UUcJ-GKQt1K1"
      },
      "execution_count": null,
      "outputs": []
    },
    {
      "cell_type": "markdown",
      "source": [
        "# **[Question  5] Learning and Estimation**\n",
        "It learns by the nearest neighbors method (k-nearest neighbors, k-nn). Learn k-nn by referring to Examples in the scikit-learn official document. Input here is the training data.\n",
        "\n",
        "After the training is finished, predictinput the validation data into the method and perform the estimation.\n",
        "\n",
        "There are multiple parameters, but I don't care about understanding them right now. As the most basic element, n_neighborsthere is a number of , so let's try this multiple. Do the default 5, and 1 and 3 as a minimum. Call the 5 case 5-nn, the 3 case, and so on.3-nn"
      ],
      "metadata": {
        "id": "RKWHB8ggurPy"
      }
    },
    {
      "cell_type": "code",
      "source": [
        "neigh = KNeighborsClassifier(n_neighbors=3)\n",
        "neigh.fit(X_train, y_train)\n",
        "y_pred3 = neigh.predict(X_test)\n",
        "\n",
        "neigh5 = KNeighborsClassifier(n_neighbors=3)\n",
        "neigh5.fit(X_train, y_train)\n",
        "y_pred5 = neigh5.predict(X_test)"
      ],
      "metadata": {
        "id": "4N6zxwn8vIoM"
      },
      "execution_count": null,
      "outputs": []
    },
    {
      "cell_type": "markdown",
      "source": [
        "# **[Question  6] Evaluation**\n",
        "Calculate the closeness between the estimated value obtained by inputting the feature value of the validation data and the correct value of the validation data, and evaluate the trained model.\n",
        "\n",
        "Index values ​​for evaluating binary classification include Accuracy (correct answer rate) , Precision (precision rate) , Recall (recall rate) and F value. To understand what each means, you have to look at the confusion matrix.\n",
        "\n",
        "*   Calculate 4 types of indicators using scikit-learn\n",
        "*   Display confusion matrix using scikit-learn\n",
        "*   Briefly investigate the meaning of the four types of index values ​​and summarize them in sentences\n",
        "\n"
      ],
      "metadata": {
        "id": "W0ysDriNyoJB"
      }
    },
    {
      "cell_type": "markdown",
      "source": [
        "**Accuracy_score**"
      ],
      "metadata": {
        "id": "HAp6D0Y01Ykp"
      }
    },
    {
      "cell_type": "code",
      "source": [
        "accs = pd.DataFrame(columns= ['Classifier', 'Accuracy'])\n",
        "\n",
        "acc3 = accuracy_score(y_test, y_pred3)\n",
        "acc5 = accuracy_score(y_test, y_pred5)\n",
        "print('k_neigh = 3: accurcy = {}'.format(acc3))\n",
        "print('k_neigh = 5: accurcy = {}'.format(acc5))"
      ],
      "metadata": {
        "colab": {
          "base_uri": "https://localhost:8080/"
        },
        "id": "GAIKlK4tysjB",
        "outputId": "38186433-4213-4d11-90cf-7e03853b90d4"
      },
      "execution_count": null,
      "outputs": [
        {
          "output_type": "stream",
          "name": "stdout",
          "text": [
            "k_neigh = 3: accurcy = 0.96\n",
            "k_neigh = 5: accurcy = 0.96\n"
          ]
        }
      ]
    },
    {
      "cell_type": "markdown",
      "source": [
        "**precision_score**"
      ],
      "metadata": {
        "id": "MRAE52UM3Uy5"
      }
    },
    {
      "cell_type": "code",
      "source": [
        "p_score3 = precision_score(y_test, y_pred3,average='micro')\n",
        "p_score5 = precision_score(y_test, y_pred5,average='micro')\n",
        "print('k_neigh = 3: accurcy = {}'.format(p_score3))\n",
        "print('k_neigh = 5: accurcy = {}'.format(p_score5))"
      ],
      "metadata": {
        "colab": {
          "base_uri": "https://localhost:8080/"
        },
        "id": "nrOalGQ23Qgt",
        "outputId": "ceab9059-1305-40ca-b99e-8cc9a1620cd0"
      },
      "execution_count": null,
      "outputs": [
        {
          "output_type": "stream",
          "name": "stdout",
          "text": [
            "k_neigh = 3: accurcy = 0.96\n",
            "k_neigh = 5: accurcy = 0.96\n"
          ]
        }
      ]
    },
    {
      "cell_type": "markdown",
      "source": [
        "**recall_score**"
      ],
      "metadata": {
        "id": "9peD0i5W3v8t"
      }
    },
    {
      "cell_type": "code",
      "source": [
        "r_score3 = precision_score(y_test, y_pred3,average='micro')\n",
        "r_score5 = precision_score(y_test, y_pred5,average='micro')\n",
        "print('k_neigh = 3: accurcy = {}'.format(r_score3))\n",
        "print('k_neigh = 5: accurcy = {}'.format(r_score5))"
      ],
      "metadata": {
        "colab": {
          "base_uri": "https://localhost:8080/"
        },
        "id": "MEQjET6x33Ay",
        "outputId": "499c4679-875f-4a8d-cd02-20e49d2b71e9"
      },
      "execution_count": null,
      "outputs": [
        {
          "output_type": "stream",
          "name": "stdout",
          "text": [
            "k_neigh = 3: accurcy = 0.96\n",
            "k_neigh = 5: accurcy = 0.96\n"
          ]
        }
      ]
    },
    {
      "cell_type": "markdown",
      "source": [
        "**f1_score**"
      ],
      "metadata": {
        "id": "ekmiblZj4h9h"
      }
    },
    {
      "cell_type": "code",
      "source": [
        "f1_score3 = precision_score(y_test, y_pred3,average='micro')\n",
        "f1_score5 = precision_score(y_test, y_pred5,average='micro')\n",
        "print('k_neigh = 3: accurcy = {}'.format(f1_score3))\n",
        "print('k_neigh = 5: accurcy = {}'.format(f1_score5))"
      ],
      "metadata": {
        "colab": {
          "base_uri": "https://localhost:8080/"
        },
        "id": "ZrzXkmix4jZl",
        "outputId": "a7b822cb-8696-4ec6-8e2e-865a571e3d8d"
      },
      "execution_count": null,
      "outputs": [
        {
          "output_type": "stream",
          "name": "stdout",
          "text": [
            "k_neigh = 3: accurcy = 0.96\n",
            "k_neigh = 5: accurcy = 0.96\n"
          ]
        }
      ]
    },
    {
      "cell_type": "markdown",
      "source": [
        "**confusion matrix**"
      ],
      "metadata": {
        "id": "L2_9rSZm5KNd"
      }
    },
    {
      "cell_type": "code",
      "source": [
        "conf_mat = confusion_matrix(y_test, y_pred3)\n",
        "print(conf_mat)\n",
        "\n",
        "cm_display = ConfusionMatrixDisplay(conf_mat).plot()\n",
        "plt.title('Confusion matrix')\n",
        "plt.show()\n",
        "\n",
        "accs = accs.append({'Classifier': 'KNN', 'Accuracy': acc3, 'f1 score': f1_score3}, ignore_index=True)"
      ],
      "metadata": {
        "colab": {
          "base_uri": "https://localhost:8080/",
          "height": 330
        },
        "id": "miL81EJ25QzT",
        "outputId": "716d5ab3-c05d-4867-f3d6-28fdbb096f41"
      },
      "execution_count": null,
      "outputs": [
        {
          "output_type": "stream",
          "name": "stdout",
          "text": [
            "[[13  0]\n",
            " [ 1 11]]\n"
          ]
        },
        {
          "output_type": "display_data",
          "data": {
            "text/plain": [
              "<Figure size 432x288 with 2 Axes>"
            ],
            "image/png": "[encoded data removed]"
          },
          "metadata": {
            "needs_background": "light"
          }
        }
      ]
    },
    {
      "cell_type": "markdown",
      "source": [
        "# **[Question  7] Visualization**\n",
        "Visualization is performed as part of the evaluation. In this case, we used 2D feature values ​​for classification, so we can visualize it with a scatter plot. Below is a function that draws a decision area on how to divide. Please use this for visualization. For X and y, give training or validation data."
      ],
      "metadata": {
        "id": "uRFJExmR6KPY"
      }
    },
    {
      "cell_type": "code",
      "source": [
        "decision_region(X_test, y_test, neigh)"
      ],
      "metadata": {
        "colab": {
          "base_uri": "https://localhost:8080/",
          "height": 295
        },
        "id": "GGLVTV_x6i-Z",
        "outputId": "e66a0c45-0a1e-47bb-96b1-24f2424a9ff1"
      },
      "execution_count": null,
      "outputs": [
        {
          "output_type": "display_data",
          "data": {
            "text/plain": [
              "<Figure size 432x288 with 1 Axes>"
            ],
            "image/png": "[encoded data removed]"
          },
          "metadata": {
            "needs_background": "light"
          }
        }
      ]
    },
    {
      "cell_type": "markdown",
      "source": [
        "##**Comparison of each method**"
      ],
      "metadata": {
        "id": "fwXLvM_PH8Z6"
      }
    },
    {
      "cell_type": "markdown",
      "source": [
        "# **[Question  8] Learning other methods**\n",
        "Please learn, estimate, evaluate, and visualize all of the following methods. Then, summarize the index values ​​in one table. Briefly discuss the results using the table and decision area. Please state which method was good at which indicator value and what decision area was.\n",
        "\n",
        "*   Nearest method\n",
        "*   logistic regression\n",
        "*   SVM\n",
        "*   decision tree\n",
        "*   random forest\n",
        "\n",
        "The link to the official documentation is below. Each has its own parameters (hyperparameters) to adjust, which are beyond the scope of this exercise. Run with the default values ​​first.\n",
        "\n",
        "\n"
      ],
      "metadata": {
        "id": "gBjck6cWIdvb"
      }
    },
    {
      "cell_type": "code",
      "source": [
        "#LogisticRegression\n",
        "lr = LogisticRegression(random_state=0).fit(X_train, y_train)\n",
        "lr_pred = lr.predict(X_test)\n",
        "lr_acc = accuracy_score(y_test, lr_pred)\n",
        "f1score = f1_score(y_test, lr_pred)\n",
        "accs = accs.append({'Classifier': 'Logistic regression', 'Accuracy': lr_acc, 'f1 score': f1score}, ignore_index=True)\n",
        "\n",
        "#SVC\n",
        "svc = SVC(kernel = 'linear')\n",
        "svc.fit(X_train, y_train)\n",
        "svc_pred = svc.predict(X_test)\n",
        "svc_acc = accuracy_score(y_test, svc_pred)\n",
        "f1score = f1_score(y_test, svc_pred)\n",
        "accs = accs.append({'Classifier': 'SVC', 'Accuracy': svc_acc, 'f1 score': f1score}, ignore_index=True)\n",
        "\n",
        "#DecisionTree\n",
        "dt = DecisionTreeClassifier(max_depth = 3, random_state=0)\n",
        "dt.fit(X_train, y_train)\n",
        "dt_pred = dt.predict(X_test)\n",
        "dt_acc = accuracy_score(y_test, dt_pred)\n",
        "f1score = f1_score(y_test, dt_pred)\n",
        "accs = accs.append({'Classifier': 'Decision Tree', 'Accuracy': dt_acc, 'f1 score': f1score}, ignore_index=True)\n",
        "\n",
        "#RandomForest\n",
        "forest = RandomForestClassifier(random_state=123)\n",
        "forest.fit(X_train, y_train)\n",
        "forest_pred = forest.predict(X_test)\n",
        "forest_acc = accuracy_score(y_test, forest_pred)\n",
        "f1score = f1_score(y_test, forest_pred)\n",
        "accs = accs.append({'Classifier': 'Random forest ', 'Accuracy': forest_acc, 'f1 score': f1score}, ignore_index=True)\n",
        "\n",
        "print(accs)"
      ],
      "metadata": {
        "colab": {
          "base_uri": "https://localhost:8080/"
        },
        "id": "oKCvQvFwIj1I",
        "outputId": "9c0e7e3b-af39-4414-8ae0-4199731ec52d"
      },
      "execution_count": null,
      "outputs": [
        {
          "output_type": "stream",
          "name": "stdout",
          "text": [
            "            Classifier  Accuracy  f1 score\n",
            "0                  KNN      0.96  0.960000\n",
            "1  Logistic regression      0.96  0.962963\n",
            "2                  SVC      0.96  0.962963\n",
            "3        Decision Tree      0.96  0.962963\n",
            "4       Random forest       0.96  0.962963\n"
          ]
        }
      ]
    }
  ]
}